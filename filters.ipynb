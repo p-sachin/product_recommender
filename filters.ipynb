{
 "cells": [
  {
   "cell_type": "code",
   "execution_count": 34,
   "metadata": {},
   "outputs": [],
   "source": [
    "import json\n",
    "myjsonfile = open('prod_json.json', 'r')\n",
    "jsondata = myjsonfile.read()\n",
    "\n",
    "products = json.loads(jsondata)"
   ]
  },
  {
   "cell_type": "code",
   "execution_count": 71,
   "metadata": {},
   "outputs": [],
   "source": [
    "res = list(item['masterCategory'] for item in products)"
   ]
  }
 ],
 "metadata": {
  "interpreter": {
   "hash": "449625f8dd8d5804ea469d8ddea1db53934fdd1ef209ff52828328ca3da54206"
  },
  "kernelspec": {
   "display_name": "Python 3.7.11 ('ai-npl')",
   "language": "python",
   "name": "python3"
  },
  "language_info": {
   "codemirror_mode": {
    "name": "ipython",
    "version": 3
   },
   "file_extension": ".py",
   "mimetype": "text/x-python",
   "name": "python",
   "nbconvert_exporter": "python",
   "pygments_lexer": "ipython3",
   "version": "3.7.11"
  },
  "orig_nbformat": 4
 },
 "nbformat": 4,
 "nbformat_minor": 2
}
