{
 "cells": [
  {
   "cell_type": "code",
   "execution_count": 25,
   "metadata": {},
   "outputs": [],
   "source": [
    "import pandas as pd\n",
    "import numpy as np\n",
    "import difflib\n",
    "from sklearn.feature_extraction.text import TfidfVectorizer\n",
    "from sklearn.metrics.pairwise import cosine_similarity"
   ]
  },
  {
   "cell_type": "code",
   "execution_count": 26,
   "metadata": {},
   "outputs": [],
   "source": [
    "df = pd.read_csv('../data/dataset/10000prod.csv')"
   ]
  },
  {
   "cell_type": "code",
   "execution_count": 48,
   "metadata": {},
   "outputs": [
    {
     "data": {
      "text/plain": [
       "array(['Briefs', 'Kurtas', 'Shrug', 'Track Pants', 'Leggings',\n",
       "       'Duffel Bag', 'Handbags', 'Heels', 'Flats', 'Tshirts', 'Belts',\n",
       "       'Wallets', 'Backpacks', 'Skirts', 'Shorts', 'Caps', 'Watches',\n",
       "       'Tops', 'Baby Dolls', 'Casual Shoes', 'Shirts', 'Lounge Pants',\n",
       "       'Sandals', 'Pendant', 'Sarees', 'Sports Shoes',\n",
       "       'Kajal and Eyeliner', 'Jeans', 'Sunglasses',\n",
       "       'Perfume and Body Mist', 'Ring', 'Trousers', 'Nail Polish',\n",
       "       'Flip Flops', 'Night suits', 'Socks', 'Sweatshirts', 'Cufflinks',\n",
       "       'Lipstick', 'Deodorant', 'Fragrance Gift Set', 'Tunics', 'Dresses',\n",
       "       'Kurtis', 'Innerwear Vests', 'Sweaters', 'Bangle', 'Clutches',\n",
       "       'Lip Gloss', 'Bra', 'Earrings', 'Ties', 'Sports Sandals', 'Salwar',\n",
       "       'Jackets', 'Wristbands', 'Kurta Sets', 'Formal Shoes',\n",
       "       'Mobile Pouch', 'Foundation and Primer', 'Necklace and Chains',\n",
       "       'Scarves', 'Nightdress', 'Mufflers', 'Beauty Accessory',\n",
       "       'Laptop Bag', 'Accessory Gift Set', 'Bracelet', 'Stockings',\n",
       "       'Capris', 'Trunk', 'Free Gifts', 'Rain Jacket', 'Stoles',\n",
       "       'Lounge Shorts', 'Lip Liner', 'Compact', 'Jumpsuit', 'Dupatta',\n",
       "       'Sunscreen', 'Face Wash and Cleanser', 'Water Bottle',\n",
       "       'Nail Essentials', 'Jewellery Set', 'Highlighter and Blush',\n",
       "       'Jeggings', 'Waistcoat', 'Booties', 'Camisoles', 'Basketballs',\n",
       "       'Messenger Bag', 'Suspenders', 'Tracksuits', 'Eyeshadow', 'Gloves',\n",
       "       'Churidar', 'Mascara', 'Face Moisturisers', 'Hair Colour',\n",
       "       'Swimwear', 'Bath Robe', 'Mask and Peel', 'Boxers', 'Headband',\n",
       "       'Rompers', 'Patiala', 'Hat', 'Ipad', 'Lehenga Choli',\n",
       "       'Waist Pouch', 'Nehru Jackets', 'Concealer', 'Key chain', 'Tights',\n",
       "       'Travel Accessory', 'Shapewear', 'Umbrellas', 'Clothing Set',\n",
       "       'Body Wash and Scrub', 'Face Scrub and Exfoliator', 'Robe',\n",
       "       'Tablet Sleeve', 'Makeup Remover', 'Face Serum and Gel',\n",
       "       'Lounge Tshirts', 'Rucksacks', 'Blazers', 'Salwar and Dupatta',\n",
       "       'Footballs'], dtype=object)"
      ]
     },
     "execution_count": 48,
     "metadata": {},
     "output_type": "execute_result"
    }
   ],
   "source": [
    "df['articleType'].unique()"
   ]
  },
  {
   "cell_type": "code",
   "execution_count": 27,
   "metadata": {},
   "outputs": [],
   "source": [
    "index = [value for value in range(10000)]\n",
    "df.drop(['Unnamed: 0'], axis=1, inplace=True)\n",
    "df['index'] = index\n",
    "selected_features = ['baseColour', 'articleType', 'usage']\n",
    "combined_features = df['baseColour']+' '+df['articleType']"
   ]
  },
  {
   "cell_type": "code",
   "execution_count": 28,
   "metadata": {},
   "outputs": [],
   "source": [
    "df['combined_features'] = combined_features"
   ]
  },
  {
   "cell_type": "code",
   "execution_count": 29,
   "metadata": {},
   "outputs": [],
   "source": [
    "vectorizer = TfidfVectorizer()\n",
    "feature_vectors = vectorizer.fit_transform(combined_features)\n",
    "# Similarity Score\n",
    "similarity = cosine_similarity(feature_vectors)"
   ]
  },
  {
   "cell_type": "code",
   "execution_count": 30,
   "metadata": {},
   "outputs": [],
   "source": [
    "# Getting the product name from the user\n",
    "product_name = 'white tshirts'\n",
    "find_close_match = difflib.get_close_matches(product_name, combined_features)"
   ]
  },
  {
   "cell_type": "code",
   "execution_count": 31,
   "metadata": {},
   "outputs": [],
   "source": [
    "close_match = find_close_match[0]\n",
    "# Finding the index of product with name\n",
    "index_product = df[df.combined_features == close_match]['index'].values[0]\n",
    "\n",
    "# Printing a list of similar products\n",
    "similarity_score = list(enumerate(similarity[index_product]))\n",
    "\n",
    "# Sort products based on their similarity score\n",
    "sorted_similar = sorted(similarity_score, key = lambda x:x[1], reverse=True)\n",
    "\n"
   ]
  },
  {
   "cell_type": "code",
   "execution_count": 36,
   "metadata": {},
   "outputs": [],
   "source": [
    "id_list = []\n",
    "for prod in sorted_similar:\n",
    "    title_from_index = df[df.index==index]['productDisplayName'].values[0]\n",
    "    product_id = df[df.index==index]['id'].values[0]"
   ]
  },
  {
   "cell_type": "code",
   "execution_count": 37,
   "metadata": {},
   "outputs": [
    {
     "data": {
      "text/plain": [
       "36450"
      ]
     },
     "execution_count": 37,
     "metadata": {},
     "output_type": "execute_result"
    }
   ],
   "source": []
  },
  {
   "cell_type": "code",
   "execution_count": 34,
   "metadata": {},
   "outputs": [
    {
     "data": {
      "text/plain": [
       "[]"
      ]
     },
     "execution_count": 34,
     "metadata": {},
     "output_type": "execute_result"
    }
   ],
   "source": [
    "id_list"
   ]
  },
  {
   "cell_type": "code",
   "execution_count": 45,
   "metadata": {},
   "outputs": [
    {
     "name": "stdout",
     "output_type": "stream",
     "text": [
      "Products suggested for you : \n",
      "\n"
     ]
    }
   ],
   "source": [
    "\n",
    "\n",
    "id_list = []\n",
    "for prod in sorted_similar:\n",
    "    index = prod[0]\n",
    "    title_from_index = df[df.index==index]['productDisplayName'].values[0]\n",
    "    product_id = df[df.index==index]['id'].values[0]\n",
    "    if len(id_list) <= 6:\n",
    "        id_list.append(product_id)\n",
    "    else:\n",
    "        pass\n",
    "\n"
   ]
  },
  {
   "cell_type": "code",
   "execution_count": 46,
   "metadata": {},
   "outputs": [
    {
     "data": {
      "text/plain": [
       "[4063, 26477, 5149, 8330, 38991, 43692, 6213]"
      ]
     },
     "execution_count": 46,
     "metadata": {},
     "output_type": "execute_result"
    }
   ],
   "source": [
    "id_list"
   ]
  },
  {
   "cell_type": "code",
   "execution_count": null,
   "metadata": {},
   "outputs": [],
   "source": []
  }
 ],
 "metadata": {
  "interpreter": {
   "hash": "449625f8dd8d5804ea469d8ddea1db53934fdd1ef209ff52828328ca3da54206"
  },
  "kernelspec": {
   "display_name": "Python 3.7.11 ('ai-npl')",
   "language": "python",
   "name": "python3"
  },
  "language_info": {
   "codemirror_mode": {
    "name": "ipython",
    "version": 3
   },
   "file_extension": ".py",
   "mimetype": "text/x-python",
   "name": "python",
   "nbconvert_exporter": "python",
   "pygments_lexer": "ipython3",
   "version": "3.7.11"
  },
  "orig_nbformat": 4
 },
 "nbformat": 4,
 "nbformat_minor": 2
}
